{
 "cells": [
  {
   "cell_type": "markdown",
   "metadata": {},
   "source": [
    "# Домашняя работа на 25.10.20. Алгоритм Рабина-Карпа"
   ]
  },
  {
   "cell_type": "code",
   "execution_count": 1,
   "metadata": {},
   "outputs": [
    {
     "name": "stdout",
     "output_type": "stream",
     "text": [
      "[215, 225, 235, 245]\n",
      "[9, 13, 33, 60, 96, 98, 106, 113, 117, 139, 141, 145, 159, 239]\n",
      "[]\n"
     ]
    }
   ],
   "source": [
    "def find(text, pattern):\n",
    "    result = []\n",
    "    #---------------------------------------------\n",
    "    \"\"\"Находим сумму шаблона\"\"\"\n",
    "    sum_pattern = 0 \n",
    "    for q in range(len(pattern)):\n",
    "        sum_pattern += ord(pattern[q])\n",
    "    #---------------------------------------------\n",
    "    \n",
    "    for i in range(len(text) - len(pattern) + 1): # Двишение окна по тексту\n",
    "        #-----------------------------------------\n",
    "        \"\"\"Находим сумму окна\"\"\"\n",
    "        sum_window = 0\n",
    "        for n in range(i, i + len(pattern)):\n",
    "            sum_window += ord(text[n])\n",
    "        #-----------------------------------------\n",
    "        \n",
    "        if sum_pattern == sum_window:      # Если суммы совпали,\n",
    "            if text.startswith(pattern, i):# то проверяем уже точно\n",
    "                result.append(i)           # и запоминаем i. \n",
    "        else: i += len(pattern) - 1        # Иначе перебрасываем окно на длину шаблона\n",
    "                                           # Тут я отнял 1, так как for затем ещё прибавит 1.\n",
    "               \n",
    "    return(result)\n",
    "\n",
    "\n",
    "text = \"\"\"Вместе шли они в сраженья через минные поля,\n",
    "на узлах сопротивленья славу поровну деля.\n",
    "Не страшили дождь и ночь их, и немало огневых\n",
    "подавили они точек, не считая запятых.\n",
    "Воевала дело зная та четверка храбрецов -\n",
    "Иваненко, Иванбаев, Иванидзе, Иванов.\"\"\"\n",
    "pattern = \"\"\"Иван\"\"\"\n",
    "\n",
    "print(find(text, pattern)) \n",
    "print(find(text, 'и'))\n",
    "print(find(text, 'f'))\n",
    "            \n",
    "            \n",
    "            \n"
   ]
  },
  {
   "cell_type": "code",
   "execution_count": null,
   "metadata": {},
   "outputs": [],
   "source": []
  }
 ],
 "metadata": {
  "kernelspec": {
   "display_name": "Python 3",
   "language": "python",
   "name": "python3"
  },
  "language_info": {
   "codemirror_mode": {
    "name": "ipython",
    "version": 3
   },
   "file_extension": ".py",
   "mimetype": "text/x-python",
   "name": "python",
   "nbconvert_exporter": "python",
   "pygments_lexer": "ipython3",
   "version": "3.8.3"
  }
 },
 "nbformat": 4,
 "nbformat_minor": 4
}
