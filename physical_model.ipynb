{
 "cells": [
  {
   "cell_type": "code",
   "execution_count": 39,
   "metadata": {},
   "outputs": [
    {
     "data": {
      "image/png": "[encoded data removed]",
      "text/plain": [
       "<Figure size 432x288 with 1 Axes>"
      ]
     },
     "metadata": {
      "needs_background": "light"
     },
     "output_type": "display_data"
    }
   ],
   "source": [
    "import matplotlib.pyplot as plt\n",
    "import numpy as np\n",
    "import math\n",
    "\n",
    "MODEL_DT = 0.001\n",
    "g = 9.81\n",
    "\n",
    "#-------------------------------------\n",
    "class Body:\n",
    "    def __init__(self, alpha, L):\n",
    "        self.alpha = alpha * math.pi/180\n",
    "        self.L = L\n",
    "        self.s = self.alpha * self.L\n",
    "        self.V = 0\n",
    "        self.trajectory = []\n",
    "        self.trajectory_x = []\n",
    "        self.trajectory_y = []\n",
    "        \n",
    "        \n",
    "    def advance(self):\n",
    "        self.trajectory.append(self.s)\n",
    "        \n",
    "        self.s += self.V * MODEL_DT\n",
    "        self.alpha = self.s/self.L\n",
    "        self.a = -g * np.sin(self.alpha)\n",
    "        self.V += self.a * MODEL_DT\n",
    "\n",
    "        \n",
    "#-------------------------------------\n",
    "ball = Body(100,2)\n",
    "\n",
    "for t in np.r_[0:3:MODEL_DT]:\n",
    "    ball.advance()\n",
    "\n",
    "for i in ball.trajectory:\n",
    "    ball.trajectory_x.append(np.sin(i/ball.L))\n",
    "    ball.trajectory_y.append(ball.L - np.cos(i/ball.L))\n",
    "\n",
    "ax = plt.axes()\n",
    "ax.set_aspect('equal')\n",
    "plt.plot(ball.trajectory_x, ball.trajectory_y)\n",
    "plt.show()\n",
    "\n",
    "\n",
    "    \n",
    "#Сделать  https://sodocumentation.net/ru/matplotlib/topic/6983/%D0%B0%D0%BD%D0%B8%D0%BC%D0%B0%D1%86%D0%B8%D1%8F-%D0%B8-%D0%B8%D0%BD%D1%82%D0%B5%D1%80%D0%B0%D0%BA%D1%82%D0%B8%D0%B2%D0%BD%D1%8B%D0%B9-%D0%B3%D1%80%D0%B0%D1%84%D0%B8%D0%BA\n",
    "\n",
    "        \n",
    "\n",
    "        \n",
    "       \n",
    "    \n",
    "        \n",
    "        \n",
    "        "
   ]
  },
  {
   "cell_type": "code",
   "execution_count": null,
   "metadata": {},
   "outputs": [],
   "source": []
  },
  {
   "cell_type": "code",
   "execution_count": null,
   "metadata": {},
   "outputs": [],
   "source": []
  }
 ],
 "metadata": {
  "kernelspec": {
   "display_name": "Python 3",
   "language": "python",
   "name": "python3"
  },
  "language_info": {
   "codemirror_mode": {
    "name": "ipython",
    "version": 3
   },
   "file_extension": ".py",
   "mimetype": "text/x-python",
   "name": "python",
   "nbconvert_exporter": "python",
   "pygments_lexer": "ipython3",
   "version": "3.8.3"
  }
 },
 "nbformat": 4,
 "nbformat_minor": 4
}
