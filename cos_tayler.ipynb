{
 "cells": [
  {
   "cell_type": "markdown",
   "metadata": {},
   "source": [
    "# Домашняя работа на 13.10.20"
   ]
  },
  {
   "cell_type": "markdown",
   "metadata": {},
   "source": [
    "Ряд Тейлора для косинуса в окрестности 0: \n",
    "$$\\cos x = 1 - \\frac{x^2}{2!} + \\frac{x^4}{4!} + ... =\n",
    " \\sum_{n = 0}^\\infty (-1)^n \\frac{x^{2n}}{2n!}$$"
   ]
  },
  {
   "cell_type": "code",
   "execution_count": 27,
   "metadata": {},
   "outputs": [
    {
     "name": "stdout",
     "output_type": "stream",
     "text": [
      "Ввидите угор в рад.100\n",
      "-1.6735588898059044e+31\n",
      "0.862318872287684\n",
      "Погрешность относительно библиотеки math: 1.6735588898059044e+31\n"
     ]
    }
   ],
   "source": [
    "def factorial(q): #Функция для вычисления факториала\n",
    "    fact = 1\n",
    "    while q > 1:\n",
    "        fact *= q\n",
    "        q -= 1\n",
    "    return(fact)\n",
    "\n",
    "\n",
    "import math\n",
    "ITERATIONS = 20\n",
    "def cos_tayler(x):\n",
    "    \"\"\"\n",
    "    Вычисление косинуса с помощью частичного\n",
    "    суммирования ряда Тейлора для окрестности 0\n",
    "   \"\"\"\n",
    "    sum = 0\n",
    "    for n in range(0,ITERATIONS):\n",
    "        sum += (-1)**n * (x**(2*n))/(factorial(2*n))        \n",
    "    return sum\n",
    "\n",
    "x = float(input(\"Ввидите угор в рад.\"))\n",
    "print(cos_tayler(x))\n",
    "print(math.cos(x))\n",
    "print(\"Погрешность относительно библиотеки math:\", math.fabs(math.cos(x) - cos_tayler(x)))"
   ]
  },
  {
   "cell_type": "markdown",
   "metadata": {},
   "source": [
    "Заметим, что чем дальше мы от нуля, тем больше погрешность. \n"
   ]
  },
  {
   "cell_type": "code",
   "execution_count": null,
   "metadata": {},
   "outputs": [],
   "source": []
  }
 ],
 "metadata": {
  "kernelspec": {
   "display_name": "Python 3",
   "language": "python",
   "name": "python3"
  },
  "language_info": {
   "codemirror_mode": {
    "name": "ipython",
    "version": 3
   },
   "file_extension": ".py",
   "mimetype": "text/x-python",
   "name": "python",
   "nbconvert_exporter": "python",
   "pygments_lexer": "ipython3",
   "version": "3.8.3"
  }
 },
 "nbformat": 4,
 "nbformat_minor": 4
}
