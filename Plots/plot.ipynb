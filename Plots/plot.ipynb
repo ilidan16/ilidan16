{
 "cells": [
  {
   "cell_type": "code",
   "execution_count": 21,
   "metadata": {},
   "outputs": [
    {
     "name": "stderr",
     "output_type": "stream",
     "text": [
      "<ipython-input-21-d66d4272a2e8>:11: MatplotlibDeprecationWarning: Adding an axes using the same arguments as a previous axes currently reuses the earlier instance.  In a future version, a new instance will always be created and returned.  Meanwhile, this warning can be suppressed, and the future behavior ensured, by passing a unique label to each axes instance.\n",
      "  ax = plt.axes()\n"
     ]
    },
    {
     "data": {
      "image/png": "[encoded data removed]",
      "text/plain": [
       "<Figure size 432x288 with 1 Axes>"
      ]
     },
     "metadata": {
      "needs_background": "light"
     },
     "output_type": "display_data"
    }
   ],
   "source": [
    "import matplotlib.pyplot as plt\n",
    "import numpy as np\n",
    "import math\n",
    "ax = plt.axes()\n",
    "\n",
    "#-----------------------------------------------------\n",
    "#масштаб\n",
    "ax.set_aspect('equal')\n",
    "\n",
    "#-----------------------------------------------------\n",
    "# Сетка\n",
    "ax = plt.axes()\n",
    "ax.set_xticks(np.arange(0, 2*math.pi + 0.1, 1))\n",
    "ax.set_yticks(np.arange(-1, 2, 1))\n",
    "ax.set_xticks(np.arange(0,2*math.pi,0.25), minor=True)\n",
    "ax.set_yticks(np.arange(-1,1,0.25), minor=True)\n",
    "ax.grid(which='minor', alpha=0.5)\n",
    "ax.grid(which='major', alpha=0.5, color='blue')\n",
    "\n",
    "#-----------------------------------------------------\n",
    "# Подписи\n",
    "plt.xlabel('Угол, рад.')\n",
    "plt.ylabel('Значение функции')\n",
    "plt.title('Синус')\n",
    "\n",
    "#-----------------------------------------------------\n",
    "x = np.linspace(0,2*math.pi,100)\n",
    "y = np.sin(x)\n",
    "plt.plot(x,y, color=\"red\")\n",
    "plt.show()"
   ]
  },
  {
   "cell_type": "code",
   "execution_count": null,
   "metadata": {},
   "outputs": [],
   "source": []
  }
 ],
 "metadata": {
  "kernelspec": {
   "display_name": "Python 3",
   "language": "python",
   "name": "python3"
  },
  "language_info": {
   "codemirror_mode": {
    "name": "ipython",
    "version": 3
   },
   "file_extension": ".py",
   "mimetype": "text/x-python",
   "name": "python",
   "nbconvert_exporter": "python",
   "pygments_lexer": "ipython3",
   "version": "3.8.3"
  }
 },
 "nbformat": 4,
 "nbformat_minor": 4
}
