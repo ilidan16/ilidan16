{
 "cells": [
  {
   "cell_type": "markdown",
   "metadata": {},
   "source": [
    "# Ответы на вопросы ознакомительного теста\n",
    "\n",
    "1. Какое наименьшее количество операций умножения достаточно для вычисления значения формулы: $x^4+x^3+x$?\n",
    "\n",
    "    Ответ: 3\n",
    "\n",
    "2. Укажите условия, при которых формулы: $a + a - a$ и $a + (a - a)$ не эквивалентны."
   ]
  },
  {
   "cell_type": "code",
   "execution_count": null,
   "metadata": {},
   "outputs": [],
   "source": [
    "import sys\n",
    "\n",
    "a = sys.float_info.max\n",
    "\n",
    "v1 = a + a - a\n",
    "v2 = a + (a - a)\n",
    "\n",
    "print(v1, v2, v1 - v2, v1 == v2)\n",
    "\n",
    "# Более того\n",
    "\n",
    "v3 = a - 1\n",
    "print(a - v3, a == v3)"
   ]
  },
  {
   "cell_type": "markdown",
   "metadata": {},
   "source": [
    "3. Напишите программу, которая разбивает последовательность чисел  на  групп так, чтобы\n",
    "    * в каждую группу входило ровно  чисел,\n",
    "    * каждое число входило в одну и только одну группу,\n",
    "    * сумма чисел в каждой группе была одинакова."
   ]
  },
  {
   "cell_type": "code",
   "execution_count": null,
   "metadata": {},
   "outputs": [],
   "source": [
    "from IPython.display import HTML, display\n",
    "import tabulate\n",
    "\n",
    "n = int(input(\"N?\"))\n",
    "\n",
    "# Вариант 1\n",
    "\n",
    "a1 = [ [ 0 for j in range(n) ] for i in range(n) ]\n",
    "for i in range(n):\n",
    "    for j in range(n):\n",
    "        a1[(j + i) % n][i] = 1 + j + i * n\n",
    "\n",
    "display(HTML(tabulate.tabulate(a1, tablefmt='html')))\n",
    "\n",
    "# Вариант 2\n",
    "\n",
    "a2 = [ [ 1 + i * n + (j - i) % n for i in range(n)] for j in range(n)]\n",
    "\n",
    "display(HTML(tabulate.tabulate(a2, tablefmt='html')))"
   ]
  },
  {
   "cell_type": "markdown",
   "metadata": {},
   "source": [
    "4. Заданы две строки: $S$ и $P$. Напишите программу, которая ищет количество вхождений $P$ в $S$ как подстроки.\n",
    "\n",
    "    Для этой задачи, честно скажу, Питон не самый удачный язык. На практике в большинстве случаев используется алгоритм Бойера-Мура или регулярные выражения, реализованные на Си, и в том же Питоне доступные в виде библиотек. Но Питон тоже годится. Напишем сперва «в лоб», а потом реализуем [алгоритм Рабина-Карпа](https://ru.wikipedia.org/wiki/%D0%90%D0%BB%D0%B3%D0%BE%D1%80%D0%B8%D1%82%D0%BC_%D0%A0%D0%B0%D0%B1%D0%B8%D0%BD%D0%B0_%E2%80%94_%D0%9A%D0%B0%D1%80%D0%BF%D0%B0), только всяких мудрёных кольцевых хэшей не нужно, достаточно суммы `ord(symbol)`."
   ]
  },
  {
   "cell_type": "code",
   "execution_count": null,
   "metadata": {},
   "outputs": [],
   "source": [
    "t = \"\"\"Вместе шли они в сраженья через минные поля,\n",
    "на узлах сопротивленья славу поровну деля.\n",
    "Не страшили дождь и ночь их, и немало огневых\n",
    "подавили они точек, не считая запятых.\n",
    "Воевала дело зная та четверка храбрецов -\n",
    "Иваненко, Иванбаев, Иванидзе, Иванов.\"\"\"\n",
    "p = \"Иван\"\n",
    "\n",
    "# t = \"pppppp\"\n",
    "# p = \"pp\"\n",
    "\n",
    "# Можно немного изящнее — через сопроцедуру-генератор https://stackoverflow.com/a/4665027\n",
    "def find_all_std(text, pattern):\n",
    "    \"\"\"\n",
    "    Поиск всех вхождений на основе библиотечной функции\n",
    "    \"\"\"\n",
    "    index = 0\n",
    "    result = []\n",
    "    while True:\n",
    "        index = text.find(pattern, index)\n",
    "        if index == -1:\n",
    "            break\n",
    "        result.append(index)\n",
    "        index += 1\n",
    "    return result\n",
    "\n",
    "def find_all_naïve_1(text, pattern):\n",
    "    \"\"\"\n",
    "    Поиск всех вхождений не на основе библиотечной функции,\n",
    "    который, будь он ещё хоть немного более наивным, мог\n",
    "    бы показаться глупым.\n",
    "    И тихонько, между нами: на Питоне так не пишут! =)\n",
    "    \"\"\"\n",
    "    result = []\n",
    "    for i in range(len(text) - len(pattern) + 1):\n",
    "        found = True\n",
    "        for j in range(len(pattern)):\n",
    "            if pattern[j] != text[i + j]:\n",
    "                found = False\n",
    "                break\n",
    "        if found:\n",
    "            result.append(i)\n",
    "    return result\n",
    "\n",
    "def find_all_naïve_2(text, pattern):\n",
    "    \"\"\"\n",
    "    Поиск всех вхождений НА основе библиотечной функции,\n",
    "    Не менее наивный.\n",
    "    И опять тихонько, между нами: на Питоне так не пишут! =)\n",
    "    \"\"\"\n",
    "    result = []\n",
    "    for i in range(len(text) - len(pattern) + 1):\n",
    "        if text.startswith(pattern, i):\n",
    "            result.append(i)\n",
    "    return result\n",
    "\n",
    "# А вот эту функцию уже следует реализовать в качестве упражнения\n",
    "# САМИМ! =)\n",
    "# Можно смотреть в Википедию (ссылка выше)\n",
    "def find_all_rabin_karp(text, pattern):\n",
    "    \"\"\"\n",
    "    Поиск всех вхождений алгоритмом Рабина-Карпа\n",
    "    И тихонько, между нами: на Питоне так обычно тоже не пишут! =)\n",
    "    \"\"\"\n",
    "    result = []\n",
    "    patternsum = sum(ord(s) for s in pattern)\n",
    "    # textwindowsum = sum(ord(text[i]) for i in range(len(pattern)))\n",
    "    # Дальше двигаем по тексту окно и проверяем, совпали ли суммы.\n",
    "    # Когда совпадают — проверяем уже точно, что text.startswith(pattern, i), и запоминаем, если да\n",
    "    # ну и т.д....\n",
    "    raise NotImplementedError(f\"Мы его не написали, но зато знаем, что сумма номеров символов образца равна {patternsum}\")\n",
    "\n",
    "print(find_all_std(t, p))\n",
    "print(find_all_naïve_1(t, p))\n",
    "print(find_all_naïve_2(t, p))\n",
    "print(find_all_rabin_karp(t, p))"
   ]
  },
  {
   "cell_type": "markdown",
   "metadata": {},
   "source": [
    "5. Числа Фибоначчи определяются следующим образом: $F_k = F_{k-1} + F_{k-2}$, для $k > 2$, а $F_1 = F_2 = 1$. Напишите программу, которая по заданному $k$ печатает $F_k$."
   ]
  },
  {
   "cell_type": "code",
   "execution_count": 1,
   "metadata": {},
   "outputs": [
    {
     "name": "stdout",
     "output_type": "stream",
     "text": [
      "1 1\n",
      "2 1\n",
      "3 2\n",
      "4 3\n",
      "5 5\n",
      "6 8\n",
      "7 13\n",
      "8 21\n",
      "9 34\n"
     ]
    }
   ],
   "source": [
    "# Вариант 1\n",
    "\n",
    "def fib_1(n):\n",
    "    if n == 1 or n == 2:\n",
    "        return 1\n",
    "    f = 1\n",
    "    fp = 1\n",
    "    for i in range(n-2):\n",
    "        f, fp = f + fp, f\n",
    "    return f\n",
    "\n",
    "for n in range(1, 10):\n",
    "    print(n, fib_1(n))"
   ]
  },
  {
   "cell_type": "code",
   "execution_count": 4,
   "metadata": {},
   "outputs": [
    {
     "name": "stdout",
     "output_type": "stream",
     "text": [
      "5.82 µs ± 9.48 ns per loop (mean ± std. dev. of 7 runs, 100000 loops each)\n"
     ]
    }
   ],
   "source": [
    "# Вариант 1,5\n",
    "\n",
    "def fib_15(n):\n",
    "    if n == 1 or n == 2:\n",
    "        return 1\n",
    "    return fib_15(n-1) + fib_15(n-2)\n",
    "\n",
    "%timeit fib_15(7)"
   ]
  },
  {
   "cell_type": "code",
   "execution_count": 10,
   "metadata": {},
   "outputs": [
    {
     "name": "stdout",
     "output_type": "stream",
     "text": [
      "162 ns ± 2.2 ns per loop (mean ± std. dev. of 7 runs, 10000000 loops each)\n"
     ]
    }
   ],
   "source": [
    "# Вариант 2\n",
    "\n",
    "import functools\n",
    "\n",
    "@functools.lru_cache()\n",
    "def fib_2(n):\n",
    "    if n == 1 or n == 2:\n",
    "        return 1 \n",
    "    else:\n",
    "        return fib_2(n-1) + fib_2(n-2)\n",
    "\n",
    "%timeit fib_2(20)"
   ]
  },
  {
   "cell_type": "markdown",
   "metadata": {},
   "source": [
    "6. Заданы два числа $2 \\le R_s \\le 16$ и $2 \\le R_t \\le 16$ — основания двух систем счисления и строка $S_s$, представляющая число в первой системе счисления. Напишите программу, выводящую строку $S_t$ — то же число во второй системе счисления."
   ]
  },
  {
   "cell_type": "code",
   "execution_count": 7,
   "metadata": {},
   "outputs": [
    {
     "name": "stdout",
     "output_type": "stream",
     "text": [
      "255\n",
      "100\n"
     ]
    }
   ],
   "source": [
    "def d2int(c):\n",
    "    c = c.lower()\n",
    "    if '0' <= c <= '9':\n",
    "        return ord(c) - ord('0')\n",
    "    elif 'a' <= c <= 'z':\n",
    "        return 10 + ord(c) - ord('a')\n",
    "\n",
    "def int2d(v):\n",
    "    return \"0123456789abcdefghijklmnopqrstuvwxyz\"[v]\n",
    "    \n",
    "def s2int(string, base):\n",
    "    r = 0\n",
    "    for c in string:\n",
    "        r *= base\n",
    "        r += d2int(c)\n",
    "    return r\n",
    "\n",
    "def int2s(value, base):\n",
    "    r = \"\"\n",
    "    while value > 0:\n",
    "        value, d = divmod(value, base)\n",
    "        r = int2d(d) + r\n",
    "    return r\n",
    "\n",
    "def cvt(string, src, dst):\n",
    "    return int2s(s2int(string, src), dst)\n",
    "\n",
    "print(cvt(\"ff\", 16, 10))\n",
    "print(cvt(\"256\", 10, 16))"
   ]
  },
  {
   "cell_type": "markdown",
   "metadata": {},
   "source": [
    "7. И.А. Хлестакова приглашали управлять департаментом. В первый день к нему прислали 1000 курьеров, а в каждый последующий в два раза больше, чем предыдущий. Иван Александро-вич согласился только тогда, когда к нему сразу прибыло не менее 30000 курьеров. На какой день это произошло? В программе нельзя использовать операции умножения и деления."
   ]
  },
  {
   "cell_type": "code",
   "execution_count": null,
   "metadata": {},
   "outputs": [],
   "source": [
    "# Вариант 1\n",
    "\n",
    "day = 1\n",
    "couriers = 1000\n",
    "\n",
    "while couriers < 30000:\n",
    "    couriers += couriers\n",
    "    day += 1\n",
    "\n",
    "print(day)"
   ]
  },
  {
   "cell_type": "code",
   "execution_count": 8,
   "metadata": {},
   "outputs": [
    {
     "name": "stdout",
     "output_type": "stream",
     "text": [
      "6\n"
     ]
    }
   ],
   "source": [
    "# Вариант 2\n",
    "\n",
    "import math\n",
    "\n",
    "print(math.ceil(math.log(30000 / 1000, 2)) + 1)"
   ]
  },
  {
   "cell_type": "code",
   "execution_count": null,
   "metadata": {},
   "outputs": [],
   "source": []
  }
 ],
 "metadata": {
  "kernelspec": {
   "display_name": "Python 3",
   "language": "python",
   "name": "python3"
  },
  "language_info": {
   "codemirror_mode": {
    "name": "ipython",
    "version": 3
   },
   "file_extension": ".py",
   "mimetype": "text/x-python",
   "name": "python",
   "nbconvert_exporter": "python",
   "pygments_lexer": "ipython3",
   "version": "3.7.0"
  }
 },
 "nbformat": 4,
 "nbformat_minor": 4
}
