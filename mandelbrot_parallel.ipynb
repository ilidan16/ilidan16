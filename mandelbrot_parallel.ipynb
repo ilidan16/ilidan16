{
  "nbformat": 4,
  "nbformat_minor": 0,
  "metadata": {
    "colab": {
      "name": "mandelbrot_parallel.ipynb",
      "provenance": [],
      "collapsed_sections": [],
      "authorship_tag": "ABX9TyNIPeZMcZHBcnBMsrwNjPt/",
      "include_colab_link": true
    },
    "kernelspec": {
      "name": "python3",
      "display_name": "Python 3"
    }
  },
  "cells": [
    {
      "cell_type": "markdown",
      "metadata": {
        "id": "view-in-github",
        "colab_type": "text"
      },
      "source": [
        "<a href=\"https://colab.research.google.com/github/ilidan16/ilidan16/blob/master/mandelbrot_parallel.ipynb\" target=\"_parent\"><img src=\"https://colab.research.google.com/assets/colab-badge.svg\" alt=\"Open In Colab\"/></a>"
      ]
    },
    {
      "cell_type": "code",
      "metadata": {
        "id": "WRlggxjaqUI0"
      },
      "source": [
        "import time\n",
        "import numpy as np\n",
        "\n",
        "from multiprocessing import Pool\n",
        "from threading import Thread"
      ],
      "execution_count": 1,
      "outputs": []
    },
    {
      "cell_type": "code",
      "metadata": {
        "id": "8gN1v27taIvh"
      },
      "source": [
        "xmin = -2.5\n",
        "xmax = 1.5\n",
        "ymin = -2\n",
        "ymax = 2\n",
        "half_x = (xmin + xmax)/2\n",
        "\n",
        "m = 500\n",
        "n = 500\n",
        "itr = 200\n",
        "border = 2.0\n",
        "\n",
        "def mandelbrot(xmin,xmax,m,n, ymin=ymin, ymax=ymax, itr=itr, border=border):\n",
        "    \"\"\"Возвращает множество Мальдеброта в разрешении m*n\"\"\"\n",
        "    image = np.zeros((m, n))\n",
        "    for i_y, y in enumerate(np.linspace(ymin, ymax, m)):\n",
        "        for i_x, x in enumerate(np.linspace(xmin, xmax, n)):\n",
        "            c = x + y * 1j\n",
        "            z = 0\n",
        "            for k in range(itr):\n",
        "                z = z**2 + c\n",
        "                if abs(z) > border:\n",
        "                    image[i_y,i_x] = k\n",
        "                    break\n",
        "    return image"
      ],
      "execution_count": 2,
      "outputs": []
    },
    {
      "cell_type": "code",
      "metadata": {
        "id": "VKd4uX2EaMSj"
      },
      "source": [
        "def simplicity():\n",
        "    \"\"\"Без распараллеливания\"\"\"\n",
        "    t0 = time.time()\n",
        "    mandelbrot(xmin,xmax,m,n)\n",
        "    print(f\"Time spent: {time.time() - t0}\")"
      ],
      "execution_count": 3,
      "outputs": []
    },
    {
      "cell_type": "code",
      "metadata": {
        "id": "Fc5nsnwxaPdT"
      },
      "source": [
        "def threads():\n",
        "    \"\"\"Потоки\"\"\"\n",
        "    left_image = np.zeros((m, int(n/2)))\n",
        "    right_image = np.zeros((m, int(n/2)))\n",
        "    def assign():\n",
        "        global left_image\n",
        "        global right_image\n",
        "        left_image = mandelbrot(xmin,half_x,m,int(n/2))\n",
        "        right_image = mandelbrot(half_x,xmax,m,int(n/2))\n",
        "\n",
        "    t0 = time.time()\n",
        "    if __name__ == '__main__':\n",
        "        t1 = Thread(target=assign, args=())\n",
        "        t2 = Thread(target=assign, args=())\n",
        "\n",
        "        t1.start()\n",
        "        t2.start()\n",
        "\n",
        "        t1.join()\n",
        "        t2.join()\n",
        "\n",
        "    full_image_thread = np.concatenate((left_image, right_image), axis=1) #склеиваем\n",
        "    print(f\"Time spent on threads: {time.time() - t0}\")"
      ],
      "execution_count": 4,
      "outputs": []
    },
    {
      "cell_type": "code",
      "metadata": {
        "id": "ADXRfNSGlP3a"
      },
      "source": [
        "def processes():\n",
        "    \"\"\"Процессы\"\"\"\n",
        "    t0 = time.time()\n",
        "    if __name__ == '__main__':\n",
        "        two_images = Pool().starmap(mandelbrot, [(xmin,half_x,m,int(n/2)),\n",
        "                                             (half_x,xmax,m,int(n/2))])\n",
        "\n",
        "        full_image_pool = np.concatenate((two_images[0], two_images[1]), axis=1) #склеиваем\n",
        "    print(f\"Time spent on processes: {time.time() - t0}\")"
      ],
      "execution_count": 5,
      "outputs": []
    },
    {
      "cell_type": "code",
      "metadata": {
        "colab": {
          "base_uri": "https://localhost:8080/"
        },
        "id": "4A0UpdpzbIf8",
        "outputId": "7c4e7fb9-fcf3-411a-c3d9-085d36b68f9f"
      },
      "source": [
        "simplicity()\n",
        "threads()\n",
        "processes()"
      ],
      "execution_count": 6,
      "outputs": [
        {
          "output_type": "stream",
          "text": [
            "Time spent: 4.653346538543701\n",
            "Time spent on threads: 9.315919399261475\n",
            "Time spent on processes: 4.902301549911499\n"
          ],
          "name": "stdout"
        }
      ]
    },
    {
      "cell_type": "code",
      "metadata": {
        "id": "zT8CuzZgglIZ"
      },
      "source": [
        ""
      ],
      "execution_count": 6,
      "outputs": []
    }
  ]
}