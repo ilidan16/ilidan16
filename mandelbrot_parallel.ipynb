{
  "nbformat": 4,
  "nbformat_minor": 0,
  "metadata": {
    "colab": {
      "name": "Untitled1.ipynb",
      "provenance": [],
      "authorship_tag": "ABX9TyNujH6aQ/+O3VqqIU+e35xd",
      "include_colab_link": true
    },
    "kernelspec": {
      "name": "python3",
      "display_name": "Python 3"
    }
  },
  "cells": [
    {
      "cell_type": "markdown",
      "metadata": {
        "id": "view-in-github",
        "colab_type": "text"
      },
      "source": [
        "<a href=\"https://colab.research.google.com/github/ilidan16/ilidan16/blob/master/mandelbrot_parallel.ipynb\" target=\"_parent\"><img src=\"https://colab.research.google.com/assets/colab-badge.svg\" alt=\"Open In Colab\"/></a>"
      ]
    },
    {
      "cell_type": "code",
      "metadata": {
        "colab": {
          "base_uri": "https://localhost:8080/",
          "height": 503
        },
        "id": "ADXRfNSGlP3a",
        "outputId": "78d5954a-5841-4e88-a228-7c5bf3f4e760"
      },
      "source": [
        "import time\n",
        "import numpy as np\n",
        "import matplotlib.pyplot as plt\n",
        "from itertools import cycle\n",
        "import matplotlib.colors as clr\n",
        "\n",
        "from multiprocessing import Process\n",
        "#===================================================\n",
        "# Поиск красивых мест: https://mandel.gart.nz/\n",
        "\"\"\"\n",
        "x = -1.748187465\n",
        "y = 0.001251896\n",
        "zoom = 711920010\n",
        "d = 1600/zoom\n",
        "xmin = x-d/2\n",
        "xmax = x+d/2\n",
        "ymin = y-d/2\n",
        "ymax = y+d/2\n",
        "\"\"\"\n",
        "\n",
        "xmin = -2.5\n",
        "xmax = 1.5\n",
        "ymin = -2\n",
        "ymax = 2\n",
        "half_x = (xmin + xmax)/2\n",
        "\n",
        "\n",
        "m = 10\n",
        "n = 10\n",
        "itr = 200\n",
        "border = 2.0\n",
        "#===================================================\n",
        "\"\"\"\n",
        "Будем разбивать множество на две части по оси абсцисс,\n",
        "вычислять эти части \"параллельно\", а затем склеивать.\n",
        "\"\"\"\n",
        "def mandelbrot(xmin,xmax,m,n, ymin=ymin, ymax=ymax, itr=itr, border=border):\n",
        "    part_image = np.zeros((m, n))\n",
        "    for i_y, y in enumerate(np.linspace(ymin, ymax, m)):\n",
        "        for i_x, x in enumerate(np.linspace(xmin, xmax, n)):\n",
        "            c = x + y * 1j\n",
        "            z = 0\n",
        "            for k in range(itr):\n",
        "                z = z**2 + c\n",
        "                if abs(z) > border:\n",
        "                    part_image[i_y,i_x] = k\n",
        "                    break\n",
        "    return part_image\n",
        "#===================================================\n",
        "left_image = np.zeros((m, int(n/2)))\n",
        "def left_part (xmin,xmax,m,n):\n",
        "    global left_image\n",
        "    left_image = mandelbrot(xmin,xmax,m,n)\n",
        "\n",
        "right_image = np.zeros((m, int(n/2)))\n",
        "def right_part (xmin,xmax,m,n):\n",
        "    global right_image\n",
        "    right_image = mandelbrot(xmin,xmax,m,n)\n",
        "\n",
        "\n",
        "\n",
        "if __name__ == '__main__':\n",
        "    p1 = Process(target=left_part, args=(xmin,half_x,m,int(n/2),))\n",
        "    p2 = Process(target=right_part, args=(half_x,xmax,m,int(n/2),))\n",
        "    \n",
        "    p1.start()\n",
        "    p2.start()\n",
        "\n",
        "    p1.join()\n",
        "    p2.join()\n",
        "full_image = np.concatenate((left_image, right_image), axis=1) #склеиваем\n",
        "\n",
        "\n",
        "plt.figure(figsize=(8, 8))\n",
        "plt.xticks([])\n",
        "plt.yticks([])\n",
        "plt.imshow(-full_image, cmap='flag')\n",
        "plt.show()\n"
      ],
      "execution_count": 10,
      "outputs": [
        {
          "output_type": "stream",
          "text": [
            "140601424816208\n",
            "140601425470608\n"
          ],
          "name": "stdout"
        },
        {
          "output_type": "display_data",
          "data": {
            "image/png": "[encoded data removed]",
            "text/plain": [
              "<Figure size 576x576 with 1 Axes>"
            ]
          },
          "metadata": {
            "tags": []
          }
        }
      ]
    },
    {
      "cell_type": "code",
      "metadata": {
        "id": "WRlggxjaqUI0"
      },
      "source": [
        ""
      ],
      "execution_count": null,
      "outputs": []
    }
  ]
}